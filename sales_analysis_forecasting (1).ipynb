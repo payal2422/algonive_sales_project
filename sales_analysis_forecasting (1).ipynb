{
 "cells": [
  {
   "cell_type": "markdown",
   "id": "93f2f86e",
   "metadata": {},
   "source": [
    "# 📊 Sales Data Analysis and Forecasting using Python\n",
    "\n",
    "## 👩‍💻 Created by: Payal Jain\n",
    "### Internship at ALGONIVE (June–July 2025)\n",
    "\n",
    "---\n",
    "\n",
    "## 1. Introduction\n",
    "\n",
    "This project performs exploratory data analysis and forecasting on monthly sales data. The goal is to identify trends and predict future sales using machine learning and statistical methods.\n",
    "\n",
    "---\n",
    "\n",
    "## 2. Import Libraries"
   ]
  },
  {
   "cell_type": "code",
   "execution_count": null,
   "id": "0f89af92",
   "metadata": {},
   "outputs": [],
   "source": [
    "python\n",
    "import pandas as pd\n",
    "import numpy as np\n",
    "import matplotlib.pyplot as plt\n",
    "import seaborn as sns\n",
    "from sklearn.linear_model import LinearRegression\n",
    "import statsmodels.api as sm\n",
    "\n",
    "import warnings\n",
    "warnings.filterwarnings(\"ignore\")"
   ]
  },
  {
   "cell_type": "code",
   "execution_count": null,
   "id": "bce3d038",
   "metadata": {},
   "outputs": [],
   "source": [
    "---\n",
    "\n",
    "## 3. Load Dataset"
   ]
  },
  {
   "cell_type": "code",
   "execution_count": null,
   "id": "78a873af",
   "metadata": {},
   "outputs": [],
   "source": [
    "python\n",
    "df = pd.read_csv(\"sales_data.csv\")\n",
    "df['Date'] = pd.to_datetime(df['Date'])\n",
    "df.head()"
   ]
  },
  {
   "cell_type": "code",
   "execution_count": null,
   "id": "7404c0d5",
   "metadata": {},
   "outputs": [],
   "source": [
    "---\n",
    "\n",
    "## 4. Exploratory Data Analysis (EDA)"
   ]
  },
  {
   "cell_type": "code",
   "execution_count": null,
   "id": "0ee92320",
   "metadata": {},
   "outputs": [],
   "source": [
    "python\n",
    "# Basic Info\n",
    "print(df.info())\n",
    "print(df.describe())\n",
    "\n",
    "# Total sales per month\n",
    "monthly_sales = df.groupby('Date')['Sales'].sum().reset_index()\n",
    "\n",
    "plt.figure(figsize=(12,6))\n",
    "sns.lineplot(x='Date', y='Sales', data=monthly_sales)\n",
    "plt.title('Total Monthly Sales')\n",
    "plt.xlabel('Date')\n",
    "plt.ylabel('Sales')\n",
    "plt.grid(True)\n",
    "plt.show()"
   ]
  },
  {
   "cell_type": "code",
   "execution_count": null,
   "id": "43b230d5",
   "metadata": {},
   "outputs": [],
   "source": [
    "---\n",
    "\n",
    "## 5. Forecasting with Linear Regression"
   ]
  },
  {
   "cell_type": "code",
   "execution_count": null,
   "id": "02e4ebe1",
   "metadata": {},
   "outputs": [],
   "source": [
    "python\n",
    "# Converting date to numerical format for regression\n",
    "monthly_sales['Month'] = monthly_sales['Date'].dt.month\n",
    "monthly_sales['Month_Num'] = np.arange(len(monthly_sales))\n",
    "\n",
    "# Model\n",
    "X = monthly_sales[['Month_Num']]\n",
    "y = monthly_sales['Sales']\n",
    "\n",
    "model = LinearRegression()\n",
    "model.fit(X, y)\n",
    "monthly_sales['Predicted_Sales'] = model.predict(X)\n",
    "\n",
    "# Plotting\n",
    "plt.figure(figsize=(12,6))\n",
    "sns.lineplot(x='Date', y='Sales', data=monthly_sales, label='Actual Sales')\n",
    "sns.lineplot(x='Date', y='Predicted_Sales', data=monthly_sales, label='Predicted Sales', linestyle='--')\n",
    "plt.title('Sales Forecast using Linear Regression')\n",
    "plt.xlabel('Date')\n",
    "plt.ylabel('Sales')\n",
    "plt.legend()\n",
    "plt.grid(True)\n",
    "plt.show()"
   ]
  },
  {
   "cell_type": "code",
   "execution_count": null,
   "id": "56d9c461",
   "metadata": {},
   "outputs": [],
   "source": [
    "---\n",
    "\n",
    "## 6. Conclusion\n",
    "\n",
    "- Analyzed trends across 2023 monthly sales.\n",
    "- Created a basic forecast using linear regression.\n",
    "- Future improvements could include time series forecasting using ARIMA or Prophet.\n",
    "\n",
    "---\n",
    "\n",
    "## 📌 Thank You!"
   ]
  }
 ],
 "metadata": {},
 "nbformat": 4,
 "nbformat_minor": 5
}
